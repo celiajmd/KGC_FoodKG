{
 "cells": [
  {
   "cell_type": "code",
   "execution_count": 43,
   "metadata": {},
   "outputs": [],
   "source": [
    "import csv\n",
    "# Remember to check the header line\n",
    "all_ingredient = csv.reader(open('recipes_federate_query.csv'))\n",
    "reconciled_ingredient = csv.reader(open('recipes_reconciled_combined_csv.csv'))"
   ]
  },
  {
   "cell_type": "code",
   "execution_count": 44,
   "metadata": {},
   "outputs": [],
   "source": [
    "# generate .md files for all the reconciled ingredients\n",
    "\n",
    "i = 0 #For ingredients\n",
    "ingredient_idx = {} #For loop unique ingredient\n",
    "\n",
    "for row in reconciled_ingredient:\n",
    "    if row[1] == 'recipe':\n",
    "        continue\n",
    "    if row[3] not in ingredient_idx:\n",
    "        filename = 'ingredient_' + str(row[3]) + '.md'\n",
    "        f = open(filename, \"x\")\n",
    "        ingredient_idx[row[3]] = i        \n",
    "        f.write(\"---\\n\")\n",
    "        f.write(\"title: \\\"%s\\\"\\n\"%(row[4]))\n",
    "        f.write(\"description: \\\"This is an ingredient\\\"\\n\")\n",
    "        f.write(\"type: \\\"post\\\"\\n\")\n",
    "        f.write(\"image: \\\"%s\\\"\\n\"%(row[7]))\n",
    "        f.write(\"categories: \\n\")\n",
    "        f.write(\"  - \\\"Ingredient\\\"\\n\")\n",
    "        f.write(\"tags: \\n\")\n",
    "        f.write(\"  - \\\"Ingredient\\\"\\n\")\n",
    "        f.write(\"---\\n\")\n",
    "        f.write(\"\\n\")\n",
    "#         f.write(\"Let's check out this ingredient\\n\")\n",
    "        f.write(\"\\n\")\n",
    "        f.write(\">This ingredient has a Chinese name:%s\\n\"%(row[5]))\n",
    "        f.write(\"\\n\")\n",
    "        f.write(\"> It is a class of %s\\n\"%(row[9]))\n",
    "        f.write(\"\\n\")\n",
    "        f.write(\"> See what people are saying about %s on Quora:\\n\"%(row[4]))\n",
    "        f.write(\"https://www.quora.com/topic/%s\\n\"%(row[8]))\n",
    "        f.write(\"\\n\")\n",
    "        f.write(\"![](../images/ingredient.jpg)\")\n",
    "        f.write(\"\\n\")\n",
    "        f.write(\"Look what recipes use this ingredient:\\n\")\n",
    "        f.write(\"\\n\")\n",
    "        i += 1   \n",
    "    recipe = row[2].replace(\"  \", \" \")\n",
    "    recipe = row[2].replace(\"   \", \" \")\n",
    "    recipe = row[2].replace(\"/\", \"or\")\n",
    "    f.write(\"> [%s]({{< ref \\\"recipe_%s.md\\\" >}} \\\"%s\\\")\"%(recipe,recipe,recipe))  \n",
    "    f.write(\"\\n\")\n",
    "    f.write(\"\\n\")\n",
    "#     f.write(\"> %s\\n\"%(row[2]))\n",
    "#     f.write(\"\\n\")\n",
    "f.close()\n"
   ]
  },
  {
   "cell_type": "code",
   "execution_count": 37,
   "metadata": {},
   "outputs": [
    {
     "ename": "FileNotFoundError",
     "evalue": "[Errno 2] No such file or directory: 'ingredient/empty.md'",
     "output_type": "error",
     "traceback": [
      "\u001b[0;31m---------------------------------------------------------------------------\u001b[0m",
      "\u001b[0;31mFileNotFoundError\u001b[0m                         Traceback (most recent call last)",
      "\u001b[0;32m<ipython-input-37-8336a2fc5a39>\u001b[0m in \u001b[0;36m<module>\u001b[0;34m\u001b[0m\n\u001b[1;32m      1\u001b[0m \u001b[0;31m# generate .md files for not reconciled ingredients\u001b[0m\u001b[0;34m\u001b[0m\u001b[0;34m\u001b[0m\u001b[0;34m\u001b[0m\u001b[0m\n\u001b[1;32m      2\u001b[0m \u001b[0mfilename\u001b[0m \u001b[0;34m=\u001b[0m \u001b[0;34m'ingredient/empty'\u001b[0m \u001b[0;34m+\u001b[0m \u001b[0;34m'.md'\u001b[0m\u001b[0;34m\u001b[0m\u001b[0;34m\u001b[0m\u001b[0m\n\u001b[0;32m----> 3\u001b[0;31m \u001b[0mf\u001b[0m \u001b[0;34m=\u001b[0m \u001b[0mopen\u001b[0m\u001b[0;34m(\u001b[0m\u001b[0mfilename\u001b[0m\u001b[0;34m,\u001b[0m \u001b[0;34m\"x\"\u001b[0m\u001b[0;34m)\u001b[0m\u001b[0;34m\u001b[0m\u001b[0;34m\u001b[0m\u001b[0m\n\u001b[0m\u001b[1;32m      4\u001b[0m \u001b[0mf\u001b[0m\u001b[0;34m.\u001b[0m\u001b[0mwrite\u001b[0m\u001b[0;34m(\u001b[0m\u001b[0;34m\"---\\n\"\u001b[0m\u001b[0;34m)\u001b[0m\u001b[0;34m\u001b[0m\u001b[0;34m\u001b[0m\u001b[0m\n\u001b[1;32m      5\u001b[0m \u001b[0mf\u001b[0m\u001b[0;34m.\u001b[0m\u001b[0mwrite\u001b[0m\u001b[0;34m(\u001b[0m\u001b[0;34m\"title: \\\"Vacancy\\\"\\n\"\u001b[0m\u001b[0;34m)\u001b[0m\u001b[0;34m\u001b[0m\u001b[0;34m\u001b[0m\u001b[0m\n",
      "\u001b[0;31mFileNotFoundError\u001b[0m: [Errno 2] No such file or directory: 'ingredient/empty.md'"
     ]
    }
   ],
   "source": [
    "# generate .md files for not reconciled ingredients\n",
    "# filename = 'ingredient/empty' + '.md'\n",
    "# f = open(filename, \"x\")\n",
    "# f.write(\"---\\n\")\n",
    "# f.write(\"title: \\\"Vacancy\\\"\\n\")\n",
    "# f.write(\"description: \\\"This is an ingredient\\\"\\n\")\n",
    "# f.write(\"type: \\\"post\\\"\\n\")\n",
    "# f.write(\"image: \\\"%s\\\"\\n\"%(row[7]))\n",
    "# f.write(\"\\n\")\n",
    "# f.write(\"categories: \\n\")\n",
    "# f.write(\"  - \\\"Ingredient\\\"\\n\")\n",
    "# f.write(\"tags: \\n\")\n",
    "# f.write(\"  - \\\"Ingredient\\\"\\n\")\n",
    "# f.write(\"---\\n\")\n",
    "\n",
    "# f.write(\"\\n\")\n",
    "# f.write(\"> This ingredient doesn't have much information right now.\\n\")\n",
    "# f.write(\"\\n\")\n",
    "# f.write(\"\\n\")\n",
    "# f.write(\"\\n\")\n",
    "# f.write(\"![](../images/ingredient.jpg)\")\n",
    "# f.write(\"\\n\")\n",
    "# f.close()\n"
   ]
  },
  {
   "cell_type": "code",
   "execution_count": 38,
   "metadata": {},
   "outputs": [
    {
     "data": {
      "text/plain": [
       "{'almond': 0,\n",
       " 'butter': 1,\n",
       " 'hot pepper': 2,\n",
       " 'cinnamon': 3,\n",
       " 'coconut': 4,\n",
       " 'cornstarch': 5,\n",
       " 'cream': 6,\n",
       " 'curry': 7,\n",
       " 'egg': 8,\n",
       " 'flour': 9,\n",
       " 'garlic': 10,\n",
       " 'gelatin': 11,\n",
       " 'honey': 12,\n",
       " 'molasses': 13,\n",
       " 'nutmeg': 14,\n",
       " 'raisin': 15,\n",
       " 'tomato sauce': 16,\n",
       " 'tomato': 17,\n",
       " 'wheat': 18,\n",
       " 'zucchini': 19}"
      ]
     },
     "execution_count": 38,
     "metadata": {},
     "output_type": "execute_result"
    }
   ],
   "source": [
    "ingredient_idx"
   ]
  },
  {
   "cell_type": "code",
   "execution_count": null,
   "metadata": {},
   "outputs": [],
   "source": []
  },
  {
   "cell_type": "code",
   "execution_count": null,
   "metadata": {},
   "outputs": [],
   "source": []
  }
 ],
 "metadata": {
  "kernelspec": {
   "display_name": "Python 3",
   "language": "python",
   "name": "python3"
  },
  "language_info": {
   "codemirror_mode": {
    "name": "ipython",
    "version": 3
   },
   "file_extension": ".py",
   "mimetype": "text/x-python",
   "name": "python",
   "nbconvert_exporter": "python",
   "pygments_lexer": "ipython3",
   "version": "3.7.6"
  }
 },
 "nbformat": 4,
 "nbformat_minor": 4
}
