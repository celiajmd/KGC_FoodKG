{
 "cells": [
  {
   "cell_type": "code",
   "execution_count": 98,
   "metadata": {},
   "outputs": [],
   "source": [
    "import csv\n",
    "# Remember to check the header line\n",
    "clean_recipe = csv.reader(open('recipes_OpenRefined.csv'))"
   ]
  },
  {
   "cell_type": "code",
   "execution_count": 99,
   "metadata": {},
   "outputs": [],
   "source": [
    "ingredient_idx = {'hot pepper': 0,\n",
    " 'cinnamon': 1,\n",
    " 'coconut': 2,\n",
    " 'cornstarch': 3,\n",
    " 'cream': 4,\n",
    " 'curry': 5,\n",
    " 'egg': 6,\n",
    " 'flour': 7,\n",
    " 'garlic': 8,\n",
    " 'gelatin': 9,\n",
    " 'honey': 10,\n",
    " 'molasses': 11,\n",
    " 'nutmeg': 12,\n",
    " 'raisin': 13,\n",
    " 'tomato sauce': 14,\n",
    " 'tomato': 15,\n",
    " 'wheat': 16,\n",
    " 'zucchini': 17}"
   ]
  },
  {
   "cell_type": "code",
   "execution_count": 100,
   "metadata": {},
   "outputs": [
    {
     "data": {
      "text/plain": [
       "{'hot pepper': 0,\n",
       " 'cinnamon': 1,\n",
       " 'coconut': 2,\n",
       " 'cornstarch': 3,\n",
       " 'cream': 4,\n",
       " 'curry': 5,\n",
       " 'egg': 6,\n",
       " 'flour': 7,\n",
       " 'garlic': 8,\n",
       " 'gelatin': 9,\n",
       " 'honey': 10,\n",
       " 'molasses': 11,\n",
       " 'nutmeg': 12,\n",
       " 'raisin': 13,\n",
       " 'tomato sauce': 14,\n",
       " 'tomato': 15,\n",
       " 'wheat': 16,\n",
       " 'zucchini': 17}"
      ]
     },
     "execution_count": 100,
     "metadata": {},
     "output_type": "execute_result"
    }
   ],
   "source": [
    "ingredient_idx"
   ]
  },
  {
   "cell_type": "code",
   "execution_count": 110,
   "metadata": {},
   "outputs": [],
   "source": [
    "i = 0 #For ingredients\n",
    "j = 0 #For recipes\n",
    "recipes_idx = {} #For loop unique ingredient\n",
    "\n",
    "for row in clean_recipe:\n",
    "    recipe = row[2].replace(\"  \", \" \")\n",
    "    recipe = row[2].replace(\"   \", \" \")\n",
    "    recipe = row[2].replace(\"/\", \"or\")\n",
    "    if recipe in recipes_idx or row[2] == 'Recipe Name_refined':\n",
    "        continue\n",
    "    if recipe != '':\n",
    "        recipe = row[2].replace(\"/\", \" or \")\n",
    "        i += 1\n",
    "#         if i > 20:\n",
    "#             break\n",
    "        filename = 'recipe_'+ recipe + '.md'\n",
    "        f = open(filename, \"x\")\n",
    "        recipes_idx[recipe] = i\n",
    "        f.write(\"---\\n\")\n",
    "        f.write(\"title: \\\"%s\\\"\\n\"%(recipe))\n",
    "        f.write(\"description: \\\"This is a recipe\\\"\\n\")\n",
    "        f.write(\"type: \\\"featured\\\"\\n\")\n",
    "        f.write(\"image: %s\\n\"%(row[4]))\n",
    "        f.write(\"categories: \\n\")\n",
    "        f.write(\"  - \\\"Recipe\\\"\\n\")\n",
    "        f.write(\"tags: \\n\")\n",
    "        f.write(\"  - \\\"Recipe\\\"\\n\")\n",
    "        f.write(\"---\\n\")\n",
    "        f.write(\"\\n\")\n",
    "        f.write(\"\\n\")\n",
    "        f.write(\">**If you don't know what are inside this recipe, now you know!**\\n\")\n",
    "        f.write(\"\\n\")\n",
    "        f.write(\"![](../images/Recipes-Banner.jpg)\")\n",
    "        f.write(\"\\n\")\n",
    "        f.write(\"> **Look the ingredients of this recipe**\\n\")\n",
    "        f.write(\"\\n\")\n",
    "    if row[9] in ingredient_idx:  \n",
    "        f.write(\"> [%s]({{< ref \\\"ingredient_%s.md\\\" >}} \\\"%s\\\")\"%(row[9],row[9],row[9]))          \n",
    "        f.write(\"\\n\")        \n",
    "        f.write(\"\\n\")\n",
    "    else:        \n",
    "        f.write(\"> %s\"%(row[9]))\n",
    "        f.write(\"\\n\")\n",
    "        f.write(\"\\n\")\n",
    "\n",
    "f.close()\n",
    "\n",
    "           "
   ]
  },
  {
   "cell_type": "code",
   "execution_count": null,
   "metadata": {},
   "outputs": [],
   "source": []
  }
 ],
 "metadata": {
  "kernelspec": {
   "display_name": "Python 3",
   "language": "python",
   "name": "python3"
  },
  "language_info": {
   "codemirror_mode": {
    "name": "ipython",
    "version": 3
   },
   "file_extension": ".py",
   "mimetype": "text/x-python",
   "name": "python",
   "nbconvert_exporter": "python",
   "pygments_lexer": "ipython3",
   "version": "3.7.6"
  }
 },
 "nbformat": 4,
 "nbformat_minor": 4
}
