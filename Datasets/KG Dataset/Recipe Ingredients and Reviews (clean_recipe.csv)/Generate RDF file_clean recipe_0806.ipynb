{
 "cells": [
  {
   "cell_type": "code",
   "execution_count": 1,
   "metadata": {},
   "outputs": [],
   "source": [
    "#import library\n",
    "import rdflib\n",
    "from rdflib import Graph, Literal, RDF, URIRef, Namespace\n",
    "from rdflib.namespace import  FOAF, DC, RDF, RDFS, OWL, SKOS, NamespaceManager\n",
    "from rdflib import URIRef, BNode, Literal\n",
    "import csv"
   ]
  },
  {
   "cell_type": "code",
   "execution_count": 69,
   "metadata": {},
   "outputs": [],
   "source": [
    "#Build knowledge graph\n",
    "g = Graph()\n",
    "\n",
    "nm = NamespaceManager(g)\n",
    "clean_recipes_list = csv.reader(open('clean_recipes_OpenRefined.csv'))\n",
    "\n",
    "food = URIRef(\"http://data.lirmm.fr/ontologies/food#\")\n",
    "containsIngredient = URIRef(\"http://data.lirmm.fr/ontologies/food#containsIngredient\")\n",
    "\n",
    "ingredient = URIRef(\"http://data.lirmm.fr/ontologies/food#Ingredient\")\n",
    "ingredient_ns = Namespace(\"https://kg.knowledgegraph.tech/food2#Ingredient\")#namespace prefix is food2\n",
    "recipe = URIRef(\"http://data.lirmm.fr/ontologies/food#Recipe\")\n",
    "recipe_ns = Namespace(\"https://kg.knowledgegraph.tech/food2#Recipe\") #namespace prefix is food2\n",
    "   \n",
    "    \n",
    "i = 0 #For ingredients\n",
    "j = 0 #For recipes\n",
    "ingredient_idx = {} #For ingredient de-duplication\n",
    "ingredient_idx_recon = {} #For reconciling\n",
    "\n",
    "for row in clean_recipes_list:\n",
    "    if row[2] == 'Recipe Name_refined': #skip the column name line\n",
    "        continue\n",
    "        \n",
    "    if row[2] != '': # skip empty lines for recipe\n",
    "        recipe_uri = URIRef(recipe_ns + str(j))\n",
    "        j += 1\n",
    "        g.add((recipe_uri, RDF.type, recipe))\n",
    "        g.add((recipe_uri, RDFS.label, Literal(row[2])))  \n",
    "    \n",
    "\n",
    "    if row[9] not in ingredient_idx: #if ingredient already created, use existing URI\n",
    "        ingredient_uri = URIRef(ingredient_ns + str(i))\n",
    "        ingredient_idx[row[9]] = str(i)\n",
    "        ingredient_idx_recon[row[0]] = str(i)\n",
    "        i += 1\n",
    "    else:\n",
    "        ingredient_uri = URIRef(ingredient_ns + ingredient_idx[row[9]])\n",
    "        ingredient_idx_recon[row[0]] = ingredient_idx[row[9]]\n",
    "                                                               \n",
    "    g.add((ingredient_uri, RDF.type, ingredient))\n",
    "    g.add((ingredient_uri, RDFS.label, Literal(row[9])))\n",
    "    g.add((recipe_uri, containsIngredient, ingredient_uri))\n"
   ]
  },
  {
   "cell_type": "code",
   "execution_count": 70,
   "metadata": {},
   "outputs": [],
   "source": [
    "# add reconciling ingredient URI to RDF file\n",
    "clean_recipes_reconciling = csv.reader(open('clean_recipes_Reconciling.csv'))\n",
    "\n",
    "\n",
    "for row in clean_recipes_reconciling:\n",
    "    if row[0] == 'rowno' or row[9] == '' or row[9] == 'URI':\n",
    "        continue   \n",
    "    ingredient_uri = URIRef(ingredient_ns + ingredient_idx_recon[str(row[0])])\n",
    "    g.add((ingredient_uri, OWL.sameAs, URIRef(row[9])))   \n",
    "\n"
   ]
  },
  {
   "cell_type": "code",
   "execution_count": 71,
   "metadata": {},
   "outputs": [],
   "source": [
    "# produce the knowledge graph file\n",
    "g.serialize(destination = \"clean_recipes.ttl\", format = \"turtle\")"
   ]
  },
  {
   "cell_type": "code",
   "execution_count": 49,
   "metadata": {},
   "outputs": [
    {
     "name": "stdout",
     "output_type": "stream",
     "text": [
      "\n"
     ]
    }
   ],
   "source": []
  },
  {
   "cell_type": "code",
   "execution_count": null,
   "metadata": {},
   "outputs": [],
   "source": []
  }
 ],
 "metadata": {
  "kernelspec": {
   "display_name": "Python 3",
   "language": "python",
   "name": "python3"
  },
  "language_info": {
   "codemirror_mode": {
    "name": "ipython",
    "version": 3
   },
   "file_extension": ".py",
   "mimetype": "text/x-python",
   "name": "python",
   "nbconvert_exporter": "python",
   "pygments_lexer": "ipython3",
   "version": "3.7.6"
  }
 },
 "nbformat": 4,
 "nbformat_minor": 4
}
